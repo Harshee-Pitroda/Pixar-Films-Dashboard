{
 "cells": [
  {
   "cell_type": "code",
   "execution_count": 5,
   "metadata": {},
   "outputs": [
    {
     "name": "stdout",
     "output_type": "stream",
     "text": [
      "------------------------------------------------------------------------------------------\n",
      "Missing values found in: box_office.csv\n",
      "    film  budget  box_office_us_canada  box_office_other  box_office_worldwide\n",
      "23  Luca     NaN               1324302          49788012              51112314\n",
      "------------------------------------------------------------------------------------------\n",
      "\n",
      "\n",
      "------------------------------------------------------------------------------------------\n",
      "Missing values found in: public_response.csv\n",
      "           film  rotten_tomatoes_score  rotten_tomatoes_counts  \\\n",
      "22         Soul                     95                     360   \n",
      "23         Luca                     91                     303   \n",
      "24  Turning Red                     95                     289   \n",
      "\n",
      "    metacritic_score  metacritic_counts cinema_score  imdb_score  imdb_counts  \n",
      "22                83                 55          NaN         8.0       392783  \n",
      "23                71                 52          NaN         7.4       202404  \n",
      "24                83                 52          NaN         7.0       158649  \n",
      "------------------------------------------------------------------------------------------\n",
      "\n",
      "\n"
     ]
    }
   ],
   "source": [
    "import os\n",
    "import pandas as pd\n",
    "\n",
    "folder_path = r\"C:\\Users\\user\\Documents\\GitHub\\Pixar-Films-Dashboard\\Pixar+Films\"\n",
    "\n",
    "# Get all Excel files in the folder\n",
    "excel_files = [f for f in os.listdir(folder_path) if f.endswith('.csv')]\n",
    "\n",
    "# Read each file and check for missing values\n",
    "for file in excel_files:\n",
    "    file_path = os.path.join(folder_path, file)\n",
    "    df = pd.read_csv(file_path)\n",
    "\n",
    "    # Replace \"NA\" strings with actual NaN values\n",
    "    df.replace(\"NA\", pd.NA, inplace=True)\n",
    "\n",
    "    # Filter rows where any column has missing values\n",
    "    missing_rows = df[df.isnull().any(axis=1)]\n",
    "\n",
    "    if not missing_rows.empty:\n",
    "        print(\"-\" * 90)\n",
    "        print(f\"Missing values found in: {file}\")\n",
    "        print(missing_rows)\n",
    "        print(\"-\" * 90)\n",
    "        print('\\n')\n"
   ]
  }
 ],
 "metadata": {
  "kernelspec": {
   "display_name": "resume-p-software",
   "language": "python",
   "name": "python3"
  },
  "language_info": {
   "codemirror_mode": {
    "name": "ipython",
    "version": 3
   },
   "file_extension": ".py",
   "mimetype": "text/x-python",
   "name": "python",
   "nbconvert_exporter": "python",
   "pygments_lexer": "ipython3",
   "version": "3.10.0"
  }
 },
 "nbformat": 4,
 "nbformat_minor": 2
}
